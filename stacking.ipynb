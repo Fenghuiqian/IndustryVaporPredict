{
 "cells": [
  {
   "cell_type": "code",
   "execution_count": 1,
   "metadata": {},
   "outputs": [],
   "source": [
    "import numpy as np\n",
    "import pandas as pd\n",
    "import h5py\n",
    "import lightgbm as lgb\n",
    "from sklearn.model_selection import KFold\n",
    "from sklearn.metrics import mean_squared_error\n",
    "from sklearn.model_selection import GridSearchCV"
   ]
  },
  {
   "cell_type": "code",
   "execution_count": 2,
   "metadata": {},
   "outputs": [],
   "source": [
    "file = h5py.File(\"./data/to_stack/pred_res.h5\", \"r\")"
   ]
  },
  {
   "cell_type": "code",
   "execution_count": 4,
   "metadata": {},
   "outputs": [],
   "source": [
    "train = np.vstack([np.array(file[\"lgb_all_fea_val\"]), \n",
    "                   np.array(file[\"lgb_drop5fea_val\"]), \n",
    "                   np.array(file[\"linearReg_std_drop5fea_valid\"]), \n",
    "                   np.array(file[\"linearReg_std_valid\"]),\n",
    "                  np.array(file[\"svr_linear_c042_valid\"]), \n",
    "                   np.array(file[\"svr_linear_std_c042_valid\"]), \n",
    "                   np.array(file[\"svr_linear_std_drop5fea_c042_valid\"])]).T"
   ]
  },
  {
   "cell_type": "code",
   "execution_count": 5,
   "metadata": {},
   "outputs": [],
   "source": [
    "test = np.vstack([np.array(file[\"lgb_all_fea_test\"]), \n",
    "                   np.array(file[\"lgb_drop5fea_test\"]), \n",
    "                   np.array(file[\"linearReg_std_drop5fea_test\"]), \n",
    "                   np.array(file[\"linearReg_std_test\"]),\n",
    "                  np.array(file[\"svr_linear_c042_test\"]), \n",
    "                   np.array(file[\"svr_linear_std_c042_test\"]), \n",
    "                   np.array(file[\"svr_linear_std_drop5fea_c042_test\"])]).T"
   ]
  },
  {
   "cell_type": "code",
   "execution_count": 6,
   "metadata": {},
   "outputs": [],
   "source": [
    "with open(\"./data/zhengqi_train.txt\")  as file:\n",
    "    tr=pd.read_table(file, sep=\"\\t\")\n",
    "target = tr[\"target\"]"
   ]
  },
  {
   "cell_type": "code",
   "execution_count": 46,
   "metadata": {},
   "outputs": [
    {
     "name": "stdout",
     "output_type": "stream",
     "text": [
      "Fitting 5 folds for each of 171 candidates, totalling 855 fits\n"
     ]
    },
    {
     "name": "stderr",
     "output_type": "stream",
     "text": [
      "[Parallel(n_jobs=-1)]: Using backend LokyBackend with 8 concurrent workers.\n",
      "[Parallel(n_jobs=-1)]: Done 152 tasks      | elapsed:    5.8s\n",
      "[Parallel(n_jobs=-1)]: Done 504 tasks      | elapsed:   17.5s\n",
      "[Parallel(n_jobs=-1)]: Done 840 out of 855 | elapsed:   29.9s remaining:    0.4s\n",
      "[Parallel(n_jobs=-1)]: Done 855 out of 855 | elapsed:   30.7s finished\n"
     ]
    },
    {
     "data": {
      "text/plain": [
       "GridSearchCV(cv=5, error_score='raise-deprecating',\n",
       "       estimator=LGBMRegressor(boosting_type='gbdt', class_weight=None, colsample_bytree=0.7,\n",
       "       importance_type='split', learning_rate=0.1, max_depth=-1,\n",
       "       metric='neg_mean_squared_error', min_child_samples=10,\n",
       "       min_child_weight=0.001, min_split_gain=0.0, n_estimators=100,\n",
       "       n_jobs=-1, num_leaves=4, objective='regression', random_state=42,\n",
       "       reg_alpha=0.2, reg_lambda=4.3, silent=True, subsample=0.7,\n",
       "       subsample_for_bin=200000, subsample_freq=2),\n",
       "       fit_params=None, iid='warn', n_jobs=-1,\n",
       "       param_grid={'learning_rate': array([0.01, 0.02, 0.03, 0.04, 0.05, 0.06, 0.07, 0.08, 0.09]), 'n_estimators': array([ 50, 100, 150, 200, 250, 300, 350, 400, 450, 500, 550, 600, 650,\n",
       "       700, 750, 800, 850, 900, 950])},\n",
       "       pre_dispatch='2*n_jobs', refit=True, return_train_score='warn',\n",
       "       scoring='neg_mean_squared_error', verbose=1)"
      ]
     },
     "execution_count": 46,
     "metadata": {},
     "output_type": "execute_result"
    }
   ],
   "source": [
    "params_test1={  \"learning_rate\":np.arange(0.01,0.1,0.01),\n",
    "                \"n_estimators\":np.arange(50,1000,50)}\n",
    "model = lgb.LGBMRegressor(objective='regression',\n",
    "                            metric='neg_mean_squared_error', \n",
    "                          learning_rate=0.03, \n",
    "                            n_estimators=200,\n",
    "                            num_leaves=4,\n",
    "                            reg_alpha=0.2,\n",
    "                            reg_lambda=4.3,\n",
    "                            min_child_samples=10,\n",
    "                            colsample_bytree =0.7,\n",
    "                            subsample=0.7,\n",
    "                            subsample_freq=2,\n",
    "                            random_state=42\n",
    "                              )\n",
    "\n",
    "gsearch = GridSearchCV(estimator=model, param_grid=params_test1, scoring='neg_mean_squared_error', cv=5, verbose=1, n_jobs=-1)\n",
    "gsearch.fit(train, target)"
   ]
  },
  {
   "cell_type": "code",
   "execution_count": 48,
   "metadata": {},
   "outputs": [],
   "source": [
    "score = gsearch.cv_results_[\"mean_test_score\"]"
   ]
  },
  {
   "cell_type": "code",
   "execution_count": 50,
   "metadata": {},
   "outputs": [],
   "source": [
    "import h5py\n",
    "file = h5py.File(\"./data/score_colsample.h5\", \"w\")\n",
    "file[\"score_stack_6\"] = score\n",
    "file.close()"
   ]
  },
  {
   "cell_type": "code",
   "execution_count": 47,
   "metadata": {},
   "outputs": [
    {
     "data": {
      "text/plain": [
       "{'learning_rate': 0.03, 'n_estimators': 200}"
      ]
     },
     "execution_count": 47,
     "metadata": {},
     "output_type": "execute_result"
    }
   ],
   "source": [
    "gsearch.best_params_"
   ]
  },
  {
   "cell_type": "code",
   "execution_count": 40,
   "metadata": {},
   "outputs": [],
   "source": [
    "import matplotlib.pyplot as plt"
   ]
  },
  {
   "cell_type": "code",
   "execution_count": 45,
   "metadata": {},
   "outputs": [
    {
     "data": {
      "text/plain": [
       "[<matplotlib.lines.Line2D at 0x1cac7519c18>]"
      ]
     },
     "execution_count": 45,
     "metadata": {},
     "output_type": "execute_result"
    },
    {
     "data": {
      "image/png": "[encoded data removed]",
      "text/plain": [
       "<Figure size 432x288 with 1 Axes>"
      ]
     },
     "metadata": {
      "needs_background": "light"
     },
     "output_type": "display_data"
    }
   ],
   "source": [
    "plt.plot(np.arange(3,60,3),score)"
   ]
  },
  {
   "cell_type": "code",
   "execution_count": 7,
   "metadata": {},
   "outputs": [],
   "source": [
    "model = lgb.LGBMRegressor( learning_rate=0.03, \n",
    "                            n_estimators=1000,\n",
    "                            num_leaves=4,\n",
    "                            reg_alpha=0.2,\n",
    "                            reg_lambda=4.3,\n",
    "                            min_child_samples=10,\n",
    "                            colsample_bytree =0.7,\n",
    "                            subsample=0.7,\n",
    "                            subsample_freq=2,\n",
    "                            random_state=42)"
   ]
  },
  {
   "cell_type": "code",
   "execution_count": 53,
   "metadata": {},
   "outputs": [
    {
     "name": "stdout",
     "output_type": "stream",
     "text": [
      "Training until validation scores don't improve for 30 rounds.\n",
      "[10]\tvalid_0's l2: 0.254002\n",
      "[20]\tvalid_0's l2: 0.123495\n",
      "[30]\tvalid_0's l2: 0.0974289\n",
      "[40]\tvalid_0's l2: 0.0923974\n",
      "[50]\tvalid_0's l2: 0.0909589\n",
      "[60]\tvalid_0's l2: 0.0912856\n",
      "[70]\tvalid_0's l2: 0.0910061\n",
      "[80]\tvalid_0's l2: 0.0913172\n",
      "Early stopping, best iteration is:\n",
      "[52]\tvalid_0's l2: 0.0909048\n",
      "mse: 0.09090479356724428\n",
      "Training until validation scores don't improve for 30 rounds.\n",
      "[10]\tvalid_0's l2: 0.258757\n",
      "[20]\tvalid_0's l2: 0.130917\n",
      "[30]\tvalid_0's l2: 0.108318\n",
      "[40]\tvalid_0's l2: 0.1042\n",
      "[50]\tvalid_0's l2: 0.103081\n",
      "[60]\tvalid_0's l2: 0.1029\n",
      "[70]\tvalid_0's l2: 0.102951\n",
      "[80]\tvalid_0's l2: 0.102687\n",
      "[90]\tvalid_0's l2: 0.103123\n",
      "[100]\tvalid_0's l2: 0.102743\n",
      "Did not meet early stopping. Best iteration is:\n",
      "[73]\tvalid_0's l2: 0.102564\n",
      "mse: 0.10256385531067957\n",
      "Training until validation scores don't improve for 30 rounds.\n",
      "[10]\tvalid_0's l2: 0.251023\n",
      "[20]\tvalid_0's l2: 0.150539\n",
      "[30]\tvalid_0's l2: 0.136294\n",
      "[40]\tvalid_0's l2: 0.13441\n",
      "[50]\tvalid_0's l2: 0.134145\n",
      "[60]\tvalid_0's l2: 0.134491\n",
      "[70]\tvalid_0's l2: 0.13362\n",
      "[80]\tvalid_0's l2: 0.133647\n",
      "[90]\tvalid_0's l2: 0.134182\n",
      "[100]\tvalid_0's l2: 0.135327\n",
      "Did not meet early stopping. Best iteration is:\n",
      "[78]\tvalid_0's l2: 0.133402\n",
      "mse: 0.1334023921355\n",
      "Training until validation scores don't improve for 30 rounds.\n",
      "[10]\tvalid_0's l2: 0.237988\n",
      "[20]\tvalid_0's l2: 0.124672\n",
      "[30]\tvalid_0's l2: 0.105573\n",
      "[40]\tvalid_0's l2: 0.100305\n",
      "[50]\tvalid_0's l2: 0.0994406\n",
      "[60]\tvalid_0's l2: 0.0990759\n",
      "[70]\tvalid_0's l2: 0.0992734\n",
      "[80]\tvalid_0's l2: 0.0990842\n",
      "[90]\tvalid_0's l2: 0.0994471\n",
      "Early stopping, best iteration is:\n",
      "[65]\tvalid_0's l2: 0.0989246\n",
      "mse: 0.09892462525724487\n",
      "Training until validation scores don't improve for 30 rounds.\n",
      "[10]\tvalid_0's l2: 0.277324\n",
      "[20]\tvalid_0's l2: 0.137852\n",
      "[30]\tvalid_0's l2: 0.109218\n",
      "[40]\tvalid_0's l2: 0.10376\n",
      "[50]\tvalid_0's l2: 0.102134\n",
      "[60]\tvalid_0's l2: 0.102017\n",
      "[70]\tvalid_0's l2: 0.101481\n",
      "[80]\tvalid_0's l2: 0.101472\n",
      "[90]\tvalid_0's l2: 0.101238\n",
      "[100]\tvalid_0's l2: 0.101565\n",
      "Did not meet early stopping. Best iteration is:\n",
      "[86]\tvalid_0's l2: 0.101064\n",
      "mse: 0.10106441223317851\n"
     ]
    }
   ],
   "source": [
    "kf = KFold(n_splits=5, shuffle=True, random_state=42)\n",
    "result_val = np.zeros(shape=(len(train),))\n",
    "result_test = np.zeros(shape=(len(test),))\n",
    "for i, (tr_index, val_index) in enumerate(kf.split(train, target)):\n",
    "    tr_X, val_X = train[tr_index,:], train[val_index,:]\n",
    "    tr_y, val_y = target[tr_index], target[val_index]\n",
    "    \n",
    "    model.fit(X=tr_X, y=tr_y, eval_set=[(val_X, val_y)], eval_metric=\"mse\", early_stopping_rounds=30, verbose=10)\n",
    "\n",
    "    pred_val_y = model.predict(val_X)\n",
    "    mse = mean_squared_error(y_pred=pred_val_y, y_true=val_y)\n",
    "    print(\"mse:\", mse)\n",
    "    result_val[val_index] = pred_val_y\n",
    "    pred_test = model.predict(test)\n",
    "    result_test += pred_test\n",
    "result_test /=5"
   ]
  },
  {
   "cell_type": "code",
   "execution_count": 52,
   "metadata": {},
   "outputs": [],
   "source": [
    "with open(\"./data/results/submit_stack_bst_para.txt\", \"w\", encoding='utf8') as file:\n",
    "    for i in result_test:\n",
    "        file.write(str(i)+\"\\n\")\n",
    "    file.close()"
   ]
  },
  {
   "cell_type": "markdown",
   "metadata": {},
   "source": [
    "lgb-bst_parameter\n",
    "0.09090479356724428\n",
    "0.10271401095216198\n",
    "0.1334023921355\n",
    "0.09892462525724487\n",
    "0.10106441223317851"
   ]
  }
 ],
 "metadata": {
  "kernelspec": {
   "display_name": "Python 3",
   "language": "python",
   "name": "python3"
  },
  "language_info": {
   "codemirror_mode": {
    "name": "ipython",
    "version": 3
   },
   "file_extension": ".py",
   "mimetype": "text/x-python",
   "name": "python",
   "nbconvert_exporter": "python",
   "pygments_lexer": "ipython3",
   "version": "3.7.1"
  }
 },
 "nbformat": 4,
 "nbformat_minor": 2
}
